{
 "cells": [
  {
   "cell_type": "code",
   "execution_count": 2,
   "id": "87774d0f-406a-4105-b9b0-1052d6ac3ea0",
   "metadata": {},
   "outputs": [
    {
     "ename": "ModuleNotFoundError",
     "evalue": "No module named 'rasterio'",
     "output_type": "error",
     "traceback": [
      "\u001b[1;31m---------------------------------------------------------------------------\u001b[0m",
      "\u001b[1;31mModuleNotFoundError\u001b[0m                       Traceback (most recent call last)",
      "Cell \u001b[1;32mIn[2], line 2\u001b[0m\n\u001b[0;32m      1\u001b[0m \u001b[38;5;28;01mimport\u001b[39;00m \u001b[38;5;21;01mnumpy\u001b[39;00m \u001b[38;5;28;01mas\u001b[39;00m \u001b[38;5;21;01mnp\u001b[39;00m\n\u001b[1;32m----> 2\u001b[0m \u001b[38;5;28;01mimport\u001b[39;00m \u001b[38;5;21;01mrasterio\u001b[39;00m\n\u001b[0;32m      3\u001b[0m \u001b[38;5;28;01mfrom\u001b[39;00m \u001b[38;5;21;01mrasterio\u001b[39;00m\u001b[38;5;21;01m.\u001b[39;00m\u001b[38;5;21;01mtransform\u001b[39;00m \u001b[38;5;28;01mimport\u001b[39;00m from_origin\n\u001b[0;32m      4\u001b[0m \u001b[38;5;28;01mimport\u001b[39;00m \u001b[38;5;21;01mgeopandas\u001b[39;00m \u001b[38;5;28;01mas\u001b[39;00m \u001b[38;5;21;01mgpd\u001b[39;00m\n",
      "\u001b[1;31mModuleNotFoundError\u001b[0m: No module named 'rasterio'"
     ]
    }
   ],
   "source": [
    "import numpy as np\n",
    "import rasterio\n",
    "from rasterio.transform import from_origin\n",
    "import geopandas as gpd\n",
    "from shapely.geometry import box\n",
    "from rasterio.mask import mask"
   ]
  },
  {
   "cell_type": "code",
   "execution_count": 19,
   "id": "8f76ce61-3c38-4de5-82d7-d175b83876fb",
   "metadata": {},
   "outputs": [
    {
     "name": "stdout",
     "output_type": "stream",
     "text": [
      "Raster modification completed and saved as modified TIFF.\n"
     ]
    }
   ],
   "source": [
    "# Modify Raster Values Based on the Vector Mask\n",
    "# Read the vector mask to get the modification percentages\n",
    "mask_gdf = gpd.read_file(\"vector_mask_milan.gpkg\")\n",
    "\n",
    "# Open the raster to modify\n",
    "with rasterio.open(\"asphalt.tif\") as src:\n",
    "    # Read the entire raster data into memory\n",
    "    raster_data = src.read(1)  # Read the first band (assuming single-band raster)\n",
    "    transform = src.transform\n",
    "    crs = src.crs\n",
    "    \n",
    "    # Loop over each polygon in the vector mask\n",
    "    for idx, row in mask_gdf.iterrows():\n",
    "        # Extract the polygon geometry and modification percentage\n",
    "        geo = [row[\"geometry\"]]  # Convert geometry to list\n",
    "        modification_percentage = row[\"asphalt\"]\n",
    "\n",
    "        # Create a mask based on the current polygon\n",
    "        out_image, out_transform = mask(src, geo, crop=False)  # Don't crop, just mask\n",
    "        out_image = out_image[0]  # For single-band raster, use the first band\n",
    "        \n",
    "        # Create a mask where the polygon is and modify those pixels\n",
    "        modified_image = out_image + (out_image * (modification_percentage / 100.0))\n",
    "        modified_image = np.clip(modified_image, 0, 100)  # Ensure values stay between 0 and 100\n",
    "\n",
    "        # Find the pixel coordinates for the polygon in the original raster\n",
    "        polygon_mask, _ = mask(src, geo, crop=False)  # Mask the raster with the polygon (no crop)\n",
    "        polygon_mask = polygon_mask[0]  # Convert to 1D for single-band raster\n",
    "\n",
    "        # Apply the modification to the original raster (only where the polygon mask is True)\n",
    "        raster_data[polygon_mask > 0] = modified_image[polygon_mask > 0]\n",
    "\n",
    "# Save the modified raster\n",
    "with rasterio.open(\n",
    "    \"modified_asphalt.tif\", \"w\", driver=\"GTiff\", height=raster_data.shape[0], width=raster_data.shape[1],\n",
    "    count=1, dtype=raster_data.dtype, crs=crs, transform=transform\n",
    ") as dst:\n",
    "    dst.write(raster_data, 1)  # Write the modified data to the raster file\n",
    "\n",
    "print(\"Raster modification completed and saved as modified TIFF.\")"
   ]
  },
  {
   "cell_type": "code",
   "execution_count": null,
   "id": "e657c4e0-fd3d-4de5-9433-c5d62f43ce62",
   "metadata": {},
   "outputs": [],
   "source": []
  }
 ],
 "metadata": {
  "kernelspec": {
   "display_name": "Python 3 (ipykernel)",
   "language": "python",
   "name": "python3"
  },
  "language_info": {
   "codemirror_mode": {
    "name": "ipython",
    "version": 3
   },
   "file_extension": ".py",
   "mimetype": "text/x-python",
   "name": "python",
   "nbconvert_exporter": "python",
   "pygments_lexer": "ipython3",
   "version": "3.12.7"
  }
 },
 "nbformat": 4,
 "nbformat_minor": 5
}
