{
 "cells": [
  {
   "cell_type": "code",
   "execution_count": null,
   "id": "87774d0f-406a-4105-b9b0-1052d6ac3ea0",
   "metadata": {},
   "outputs": [
    {
     "ename": "",
     "evalue": "",
     "output_type": "error",
     "traceback": [
      "\u001b[1;31mThe kernel failed to start as the Python Environment 'Python' is no longer available. Consider selecting another kernel or refreshing the list of Python Environments."
     ]
    }
   ],
   "source": [
    "import numpy as np\n",
    "import rasterio\n",
    "from rasterio.transform import from_origin\n",
    "import geopandas as gpd\n",
    "from shapely.geometry import box\n",
    "from rasterio.mask import mask\n",
    "import os"
   ]
  },
  {
   "cell_type": "code",
   "execution_count": null,
   "id": "d799f11f",
   "metadata": {},
   "outputs": [
    {
     "ename": "",
     "evalue": "",
     "output_type": "error",
     "traceback": [
      "\u001b[1;31mThe kernel failed to start as the Python Environment 'Python' is no longer available. Consider selecting another kernel or refreshing the list of Python Environments."
     ]
    }
   ],
   "source": [
    "def layer_alterator(\n",
    "    raster_folder,\n",
    "    vector_path,\n",
    "    operation_rule,\n",
    "    output_folder=None,\n",
    "    value_range=(0, 1)\n",
    "):\n",
    "    \"\"\"\n",
    "    Modifies pixel values in multiple rasters based on vector mask attributes and specified rules.\n",
    "\n",
    "    Parameters:\n",
    "    - raster_folder (str): Folder containing rasters to be modified\n",
    "    - vector_path (str): Path to vector mask (e.g. .gpkg, .shp)\n",
    "    - operation_rule (str): operation types % or Reduction\n",
    "    - output_folder (str, optional): Folder to save modified rasters. If None, saves to 'modified_<rastername>.tif'\n",
    "    - value_range (tuple): (min, max) range for pixel clipping. Default is (0, 1)\n",
    "\n",
    "    Returns:\n",
    "    - None (writes modified raster files)\n",
    "    \"\"\"\n",
    "\n",
    "    mask_gdf = gpd.read_file(vector_path)\n",
    "\n",
    "    # List raster files\n",
    "    raster_files = [f for f in os.listdir(raster_folder) if f.lower().endswith((\".tif\", \".tiff\"))]\n",
    "\n",
    "    for raster_file in raster_files:\n",
    "        raster_path = os.path.join(raster_folder, raster_file)\n",
    "        raster_key = os.path.splitext(raster_file)[0].lower()\n",
    "\n",
    "        # Match raster name to rule\n",
    "        operation = None\n",
    "        attribute_field = None\n",
    "\n",
    "        if not operation_rule:\n",
    "            print(f\"[SKIP] No operation rule for: {raster_file}\")\n",
    "            continue\n",
    "\n",
    "        with rasterio.open(raster_path) as src:\n",
    "            raster_data = src.read(1)\n",
    "            transform = src.transform\n",
    "            crs = src.crs\n",
    "            dtype = raster_data.dtype\n",
    "\n",
    "            for idx, row in mask_gdf.iterrows():\n",
    "                if attribute_field not in row or row[attribute_field] is None:\n",
    "                    continue\n",
    "\n",
    "                geo = [row[\"geometry\"]]\n",
    "                value = row[attribute_field]\n",
    "\n",
    "                out_image, _ = mask(src, geo, crop=False)\n",
    "                out_image = out_image[0]\n",
    "\n",
    "                polygon_mask, _ = mask(src, geo, crop=False)\n",
    "                polygon_mask = polygon_mask[0]\n",
    "\n",
    "                # Apply alteration\n",
    "                if operation_rule == \"increase_pct\":\n",
    "                    modified_image = out_image + (out_image * (value / 100.0))\n",
    "                elif operation_rule == \"reduction\":\n",
    "                    modified_image = out_image - value\n",
    "\n",
    "                modified_image = np.clip(modified_image, *value_range)\n",
    "                raster_data[polygon_mask > 0] = modified_image[polygon_mask > 0]\n",
    "\n",
    "        # Prepare output path\n",
    "        if output_folder:\n",
    "            os.makedirs(output_folder, exist_ok=True)\n",
    "            output_path = os.path.join(output_folder, raster_file)\n",
    "        else:\n",
    "            base_name = os.path.splitext(raster_file)[0]\n",
    "            output_path = f\"modified_{base_name}.tif\"\n",
    "\n",
    "        with rasterio.open(\n",
    "            output_path, \"w\", driver=\"GTiff\",\n",
    "            height=raster_data.shape[0], width=raster_data.shape[1],\n",
    "            count=1, dtype=dtype, crs=crs, transform=transform\n",
    "        ) as dst:\n",
    "            dst.write(raster_data, 1)\n",
    "\n",
    "        print(f\"[DONE] Modified {raster_file} -> {output_path}\")\n"
   ]
  },
  {
   "cell_type": "code",
   "execution_count": null,
   "id": "22de77bf",
   "metadata": {},
   "outputs": [
    {
     "name": "stdout",
     "output_type": "stream",
     "text": [
      "[DONE] Modified grass.tif -> output/modified_rasters/grass.tif\n",
      "[DONE] Modified asphalt.tif -> output/modified_rasters/asphalt.tif\n"
     ]
    }
   ],
   "source": [
    "layer_alterator(\n",
    "    vector_path=\"vector_mask_milan.gpkg\",\n",
    "    raster_folder=\"./Test Data\",\n",
    "    output_folder=\"output/modified_rasters\",\n",
    "    operation_rule=\"reduction\",\n",
    "    value_range=(0, 1)\n",
    ")"
   ]
  }
 ],
 "metadata": {
  "kernelspec": {
   "display_name": "Python 3",
   "language": "python",
   "name": "python3"
  },
  "language_info": {
   "codemirror_mode": {
    "name": "ipython",
    "version": 3
   },
   "file_extension": ".py",
   "mimetype": "text/x-python",
   "name": "python",
   "nbconvert_exporter": "python",
   "pygments_lexer": "ipython3",
   "version": "3.11.11"
  }
 },
 "nbformat": 4,
 "nbformat_minor": 5
}
