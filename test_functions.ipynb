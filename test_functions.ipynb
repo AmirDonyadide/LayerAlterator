{
 "cells": [
  {
   "cell_type": "code",
   "execution_count": 4,
   "id": "f5984c2d",
   "metadata": {},
   "outputs": [
    {
     "data": {
      "text/plain": [
       "['__builtins__',\n",
       " '__cached__',\n",
       " '__doc__',\n",
       " '__file__',\n",
       " '__loader__',\n",
       " '__name__',\n",
       " '__package__',\n",
       " '__spec__',\n",
       " 'apply_mask_rule_all',\n",
       " 'apply_masking',\n",
       " 'apply_pct_all',\n",
       " 'apply_pct_all_fractions',\n",
       " 'apply_pct_ucp',\n",
       " 'check_crs_match',\n",
       " 'check_imd_bsf_consistency',\n",
       " 'gpd',\n",
       " 'is_fraction_layer',\n",
       " 'json',\n",
       " 'mapping',\n",
       " 'mask',\n",
       " 'np',\n",
       " 'os',\n",
       " 'parse_rules_from_mask',\n",
       " 'pd',\n",
       " 'rasterio',\n",
       " 'rasterize']"
      ]
     },
     "execution_count": 4,
     "metadata": {},
     "output_type": "execute_result"
    }
   ],
   "source": [
    "# --- A) IMPORT LIBRARIES ---\n",
    "import os\n",
    "import json\n",
    "import geopandas as gpd\n",
    "import pandas as pd\n",
    "import rasterio\n",
    "import numpy as np\n",
    "from rasterio.mask import mask\n",
    "from rasterio.features import rasterize\n",
    "from shapely.geometry import mapping\n",
    "# --- B) FUNCTIONS ---\n",
    "from functions import *\n",
    "import functions\n",
    "dir(functions)"
   ]
  },
  {
   "cell_type": "code",
   "execution_count": 6,
   "id": "1bbdb56d",
   "metadata": {},
   "outputs": [],
   "source": [
    "# --- B) IMPORT INPUT DATA ---\n",
    "\n",
    "# b.1 DEfine paths to input data\n",
    "vector_mask_path = \"./input_data_for_layer_alterator/vector/vector_pct.geojson\"\n",
    "rules_path = \"./input_data_for_layer_alterator/operation_rules/operation_rules_C3.json\"\n",
    "ucp_folder = \"./input_data_for_layer_alterator/ucps\"\n",
    "fractions_folder = \"./input_data_for_layer_alterator/lc_fractions\"\n",
    "output_folder = \"./output\"\n",
    "\n",
    "'''\n",
    "add info\n",
    "'''\n",
    "\n",
    "# b.2 - Load vector mask (GeoPackage, GeoJSON, or Shapefile)\n",
    "if vector_mask_path.endswith(\".gpkg\"):\n",
    "    vector_mask_layer = \"layer_name\"  # specify layer name for GPKG\n",
    "    gdf_mask = gpd.read_file(vector_mask_path, layer=vector_mask_layer)\n",
    "elif vector_mask_path.endswith(\".geojson\") or vector_mask_path.endswith(\".json\"):\n",
    "    gdf_mask = gpd.read_file(vector_mask_path)\n",
    "elif vector_mask_path.endswith(\".shp\"):\n",
    "    gdf_mask = gpd.read_file(vector_mask_path)\n",
    "else:\n",
    "    raise ValueError(\"Unsupported vector format. Use GPKG, GeoJSON, or Shapefile.\")\n",
    "\n",
    "# b.3 - Load JSON rules\n",
    "with open(rules_path) as f:\n",
    "    rules = json.load(f)"
   ]
  },
  {
   "cell_type": "code",
   "execution_count": null,
   "id": "422fecfe",
   "metadata": {},
   "outputs": [
    {
     "name": "stdout",
     "output_type": "stream",
     "text": [
      "All raster layers have the same CRS as the vector mask.\n",
      "Rule C3: Layers set to PCT and NONE. Proceeding with PCT logic and treating NONE as 0.\n"
     ]
    }
   ],
   "source": [
    "# --- C) TEST CHECK RULES\n",
    "# Check CRS consistency between the vector mask and all covariate rasters\n",
    "check_crs_match(gdf_mask, rules, ucp_folder, fractions_folder)\n",
    "\n"
   ]
  },
  {
   "cell_type": "code",
   "execution_count": null,
   "id": "cccbb82b",
   "metadata": {},
   "outputs": [
    {
     "name": "stdout",
     "output_type": "stream",
     "text": [
      "Masking not applied: ./output\n"
     ]
    }
   ],
   "source": []
  },
  {
   "cell_type": "code",
   "execution_count": null,
   "id": "2ffe83ba",
   "metadata": {},
   "outputs": [],
   "source": []
  }
 ],
 "metadata": {
  "kernelspec": {
   "display_name": "geo",
   "language": "python",
   "name": "python3"
  },
  "language_info": {
   "codemirror_mode": {
    "name": "ipython",
    "version": 3
   },
   "file_extension": ".py",
   "mimetype": "text/x-python",
   "name": "python",
   "nbconvert_exporter": "python",
   "pygments_lexer": "ipython3",
   "version": "3.10.13"
  }
 },
 "nbformat": 4,
 "nbformat_minor": 5
}
