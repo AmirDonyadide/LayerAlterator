{
 "cells": [
  {
   "cell_type": "code",
   "execution_count": 80,
   "id": "87295446-a8c3-4b1d-9ad6-bd2ec8b06cbd",
   "metadata": {},
   "outputs": [],
   "source": [
    "from functions import *\n",
    "import json"
   ]
  },
  {
   "cell_type": "code",
   "execution_count": 81,
   "id": "7fce2f7f-1a09-48c1-a81f-1284ab1eb689",
   "metadata": {},
   "outputs": [],
   "source": [
    "def layer_alterator(\n",
    "    vector_mask_path,\n",
    "    rules_path,\n",
    "    ucps_folder,\n",
    "    fractions_folder,\n",
    "    output_folder,\n",
    "    layer_name=None\n",
    "):\n",
    "    \"\"\"\n",
    "    Execute full layer alteration workflow based on vector mask and rule definitions.\n",
    "\n",
    "    This function:\n",
    "    - Loads a vector mask (GPKG, GeoJSON, Shapefile)\n",
    "    - Loads rules from a JSON file\n",
    "    - Validates and parses the rule configuration\n",
    "    - Applies masking (C1) or percentage adjustment (C2, C3)\n",
    "    - Verifies IMD ≥ BSF constraint if relevant\n",
    "    - Returns a processing summary\n",
    "\n",
    "    Parameters:\n",
    "    -----------\n",
    "    vector_mask_path : str\n",
    "        Path to the vector file (.gpkg, .geojson, .shp).\n",
    "\n",
    "    rules_path : str\n",
    "        Path to a JSON file defining raster layer rules.\n",
    "\n",
    "    ucp_folder : str\n",
    "        Folder containing UCP raster files.\n",
    "\n",
    "    fractions_folder : str\n",
    "        Folder containing fraction raster files (e.g., \"F_AC.tif\").\n",
    "\n",
    "    output_folder : str\n",
    "        Folder where output rasters will be written.\n",
    "\n",
    "    layer_name : str, optional\n",
    "        GPKG layer name if using a .gpkg file.\n",
    "\n",
    "    Returns:\n",
    "    --------\n",
    "    dict\n",
    "        Summary dictionary containing:\n",
    "        - rule_id: Applied rule code\n",
    "        - masking_applied: bool\n",
    "        - pct_applied: bool\n",
    "        - imd_bsf_check: str (\"passed\", \"failed\", or \"skipped\")\n",
    "    \"\"\"\n",
    "\n",
    "    summary = {\n",
    "        \"rule_id\": None,\n",
    "        \"masking_applied\": False,\n",
    "        \"pct_applied\": False,\n",
    "        \"imd_bsf_check\": \"skipped\"\n",
    "    }\n",
    "\n",
    "    # Step 1: Load vector mask\n",
    "    gdf_mask = load_vector_mask(vector_mask_path, layer_name)\n",
    "\n",
    "    # Step 2: Load JSON rules\n",
    "    with open(rules_path) as f:\n",
    "        rules = json.load(f)\n",
    "\n",
    "    # Step 3: Parse and validate rules\n",
    "    try:\n",
    "        rule_id, _ = parse_rules_from_mask(gdf_mask, rules)\n",
    "        summary[\"rule_id\"] = rule_id\n",
    "    except ValueError as e:\n",
    "        print(\"Rule validation failed:\", e)\n",
    "        raise\n",
    "\n",
    "    # Step 4: Apply rule-based processing\n",
    "    if rule_id == \"C1\":\n",
    "        print(\"Applying masking...\")\n",
    "        apply_mask_rule_all(gdf_mask, rules, ucps_folder, fractions_folder, output_folder)\n",
    "        summary[\"masking_applied\"] = True\n",
    "\n",
    "    elif rule_id in {\"C2\", \"C3\"}:\n",
    "        print(\"Applying percentage-based adjustments...\")\n",
    "        apply_pct_all(gdf_mask, rules, ucps_folder, fractions_folder, output_folder)\n",
    "        summary[\"pct_applied\"] = True\n",
    "\n",
    "        # Step 5: Consistency check (IMD ≥ BSF)\n",
    "        print(\"Running IMD ≥ BSF consistency check...\")\n",
    "        try:\n",
    "            check_imd_bsf_consistency(output_folder)\n",
    "            summary[\"imd_bsf_check\"] = \"passed\"\n",
    "        except Exception as e:\n",
    "            print(\"Consistency check failed:\", e)\n",
    "            summary[\"imd_bsf_check\"] = \"failed\"\n",
    "\n",
    "    else:\n",
    "        print(\"No processing applied (rule:\", rule_id, \")\")\n",
    "\n",
    "    return summary"
   ]
  },
  {
   "cell_type": "code",
   "execution_count": 82,
   "id": "b7f9a94e",
   "metadata": {},
   "outputs": [
    {
     "name": "stdout",
     "output_type": "stream",
     "text": [
      "Rule C3: Layers set to PCT and NONE. Proceeding with PCT logic and treating NONE as 0.\n",
      "Applying percentage-based adjustments...\n",
      "F_AC none 0.0 1.0\n",
      "F_S pct 0.0 1.0\n",
      "F_M none 0.0 1.0\n",
      "F_BS pct -30 0.7\n",
      "F_G pct -30 0.7\n",
      "F_TV pct 30 1.3\n",
      "F_W none 0.0 1.0\n",
      "Pixel sum stats: 0.99999976 1.0000002 1.0\n",
      "Finished applying percentage changes and polygon-wise normalization to fraction layers.\n",
      "No explicit NoData value defined in the input raster.\n",
      "TCH pct 50 1.5\n",
      "Warning: values outside [0,1] detected in TCH_pct.tif. Handling method: clip.\n",
      "IMD none 0.0 1.0\n",
      "No explicit NoData value defined in the input raster.\n",
      "BH none 0.0 1.0\n",
      "BSF none 0.0 1.0\n",
      "No explicit NoData value defined in the input raster.\n",
      "SVF none 0.0 1.0\n",
      "Running IMD ≥ BSF consistency check...\n",
      "Warning: 259257 pixels (2.94%) have IMD < BSF. Consider adjusting the 'pct' attributes in the vector mask.\n"
     ]
    }
   ],
   "source": [
    "summary = layer_alterator(\n",
    "    vector_mask_path = \"./input_data_for_layer_alterator/vector/vector_pct.geojson\",\n",
    "    rules_path = \"./input_data_for_layer_alterator/operation_rules/operation_rules_C3.json\",\n",
    "    ucps_folder = \"./input_data_for_layer_alterator/ucps\",\n",
    "    fractions_folder = \"./input_data_for_layer_alterator/lc_fractions\",\n",
    "    output_folder = \"./output\"\n",
    ")"
   ]
  },
  {
   "cell_type": "code",
   "execution_count": 79,
   "id": "cf1b8141",
   "metadata": {},
   "outputs": [
    {
     "name": "stdout",
     "output_type": "stream",
     "text": [
      "{'rule_id': 'C3', 'masking_applied': False, 'pct_applied': True, 'imd_bsf_check': 'passed'}\n"
     ]
    }
   ],
   "source": [
    "print(summary)"
   ]
  },
  {
   "cell_type": "markdown",
   "id": "b6eb7613-9abf-4640-aae2-81cfc1963747",
   "metadata": {},
   "source": [
    "---------------------------------------------------------"
   ]
  },
  {
   "cell_type": "code",
   "execution_count": null,
   "id": "e37014b3-4a9c-41aa-876d-0b6ae6b61b37",
   "metadata": {},
   "outputs": [],
   "source": [
    "# --- E) Test new IMD and BSF consistency\n",
    "# check_imd_bsf_consistency(output_folder)"
   ]
  },
  {
   "cell_type": "markdown",
   "id": "73884a37-c907-4287-bdf9-33103477fcd0",
   "metadata": {},
   "source": [
    "Notes for PCT:\n",
    "\n",
    "- Think about how to deal with 0 data -> **see \"zero_handling\" option**\n",
    "- Test if normalisation [0-1] for each UCP layer is a good proxy to obtain a proportional increase of the UCP that is wanted to be modified by having a final UCP raster still in the range [0-1]? Maybe not, because this changes the whole range of values in the raster -> **Consider only \"clip\" option for the UCPs**\n",
    "- Check consistency in IMD and BSF -> **Creates a separate functions \"check_imd_bsf_consistency\" for checking**\n",
    "- Think about how to deal with no-data -> **Added additional masking in bot ucp and fractions processing**\n",
    "- Test if a second normalisation [0-1] per pixel fractions array (other than a normalisation on each single raster) on the modified fractions raster is sufficient to preserve proportion by obeying the rules that sum per pixel = 1 and fractions value >=0. Maybe it's better first to normalise per pixel and then apply the second normalisation to each final raster -> **Applied a single normalization within each pixel in the mask as proportional scaling Fx/sum(all_F)**"
   ]
  }
 ],
 "metadata": {
  "kernelspec": {
   "display_name": "geo",
   "language": "python",
   "name": "python3"
  },
  "language_info": {
   "codemirror_mode": {
    "name": "ipython",
    "version": 3
   },
   "file_extension": ".py",
   "mimetype": "text/x-python",
   "name": "python",
   "nbconvert_exporter": "python",
   "pygments_lexer": "ipython3",
   "version": "3.10.13"
  }
 },
 "nbformat": 4,
 "nbformat_minor": 5
}
