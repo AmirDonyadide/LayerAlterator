{
 "cells": [
  {
   "cell_type": "code",
   "execution_count": null,
   "id": "87295446-a8c3-4b1d-9ad6-bd2ec8b06cbd",
   "metadata": {},
   "outputs": [],
   "source": [
    "# --- A) IMPORT LIBRARIES ---\n",
    "import json\n",
    "import geopandas as gpd\n",
    "# --- B) FUNCTIONS ---\n",
    "from functions import *\n",
    "import importlib\n",
    "import functions\n",
    "importlib.reload(functions)\n",
    "dir(functions)"
   ]
  },
  {
   "cell_type": "markdown",
   "id": "b6f63489-8a31-4ec4-a671-392c6f426b6c",
   "metadata": {},
   "source": [
    "------------------------------------------------"
   ]
  },
  {
   "cell_type": "code",
   "execution_count": 50,
   "id": "4c600f92",
   "metadata": {},
   "outputs": [],
   "source": [
    "# --- B) IMPORT INPUT DATA ---\n",
    "\n",
    "# b.1 DEfine paths to input data\n",
    "vector_mask_path = \"./input_data_for_layer_alterator/vector/vector_pct.geojson\"\n",
    "rules_path = \"./input_data_for_layer_alterator/operation_rules/operation_rules_C3.json\"\n",
    "ucp_folder = \"./input_data_for_layer_alterator/ucps\"\n",
    "fractions_folder = \"./input_data_for_layer_alterator/lc_fractions\"\n",
    "output_folder = \"./output\"\n",
    "\n",
    "'''\n",
    "add info\n",
    "'''\n",
    "\n",
    "# b.2 - Load vector mask (GeoPackage, GeoJSON, or Shapefile)\n",
    "if vector_mask_path.endswith(\".gpkg\"):\n",
    "    vector_mask_layer = \"layer_name\"  # specify layer name for GPKG\n",
    "    gdf_mask = gpd.read_file(vector_mask_path, layer=vector_mask_layer)\n",
    "elif vector_mask_path.endswith(\".geojson\") or vector_mask_path.endswith(\".json\"):\n",
    "    gdf_mask = gpd.read_file(vector_mask_path)\n",
    "elif vector_mask_path.endswith(\".shp\"):\n",
    "    gdf_mask = gpd.read_file(vector_mask_path)\n",
    "else:\n",
    "    raise ValueError(\"Unsupported vector format. Use GPKG, GeoJSON, or Shapefile.\")\n",
    "\n",
    "# b.3 - Load JSON rules\n",
    "with open(rules_path) as f:\n",
    "    rules = json.load(f)"
   ]
  },
  {
   "cell_type": "markdown",
   "id": "3dacd334-71e5-46af-9e85-6c226faeee18",
   "metadata": {},
   "source": [
    "------------------------------------------------"
   ]
  },
  {
   "cell_type": "code",
   "execution_count": null,
   "id": "7fce2f7f-1a09-48c1-a81f-1284ab1eb689",
   "metadata": {},
   "outputs": [
    {
     "name": "stdout",
     "output_type": "stream",
     "text": [
      "Rule C3: Layers set to PCT and NONE. Proceeding with PCT logic and treating NONE as 0.\n",
      "Rule C3 detected: applying percentage adjustments...\n",
      "F_AC none 0.0 1.0\n",
      "F_S pct 0.0 1.0\n",
      "F_M none 0.0 1.0\n",
      "F_BS pct -30 0.7\n",
      "F_G pct -30 0.7\n",
      "F_TV pct 30 1.3\n",
      "F_W none 0.0 1.0\n",
      "Pixel sum stats: 0.99999976 1.0000002 1.0\n",
      "Finished applying percentage changes and polygon-wise normalization to fraction layers.\n",
      "No explicit NoData value defined in the input raster.\n",
      "TCH pct 50 1.5\n",
      "Warning: values outside [0,1] detected in TCH_pct.tif. Handling method: clip.\n",
      "IMD none 0.0 1.0\n",
      "No explicit NoData value defined in the input raster.\n",
      "BH none 0.0 1.0\n",
      "BSF none 0.0 1.0\n",
      "No explicit NoData value defined in the input raster.\n",
      "SVF none 0.0 1.0\n",
      "Percentage adjustments complete. Output saved to: ./output\n"
     ]
    }
   ],
   "source": [
    "# Parse rules and validate them against the vector mask attributes\n",
    "try:\n",
    "    rule_id, parsed_info = parse_rules_from_mask(gdf_mask, rules)\n",
    "except ValueError as e:\n",
    "    print(\"Rule validation failed:\", e)\n",
    "    raise\n",
    "\n",
    "# Determine what action to take based on rule_id\n",
    "if rule_id == \"C1\":\n",
    "    print(f\"Rule {rule_id} detected: applying masking...\")\n",
    "    apply_mask_rule_all(gdf_mask, rules, ucp_folder, fractions_folder, output_folder)\n",
    "    print(\"Masking complete. Output saved to:\", output_folder)\n",
    "\n",
    "elif rule_id in {\"C2\", \"C3\"}:\n",
    "    print(f\"Rule {rule_id} detected: applying percentage adjustments...\")\n",
    "    apply_pct_all(gdf_mask, rules, ucp_folder, fractions_folder, output_folder)\n",
    "    print(\"Percentage adjustments complete. Output saved to:\", output_folder)\n",
    "\n",
    "else:\n",
    "    print(f\"No processing required for rule {rule_id}. Skipping masking and percentage adjustment.\")"
   ]
  },
  {
   "cell_type": "markdown",
   "id": "b6eb7613-9abf-4640-aae2-81cfc1963747",
   "metadata": {},
   "source": [
    "---------------------------------------------------------"
   ]
  },
  {
   "cell_type": "code",
   "execution_count": null,
   "id": "e37014b3-4a9c-41aa-876d-0b6ae6b61b37",
   "metadata": {},
   "outputs": [],
   "source": [
    "# --- E) Test new IMD and BSF consistency\n",
    "# check_imd_bsf_consistency(output_folder)"
   ]
  },
  {
   "cell_type": "markdown",
   "id": "73884a37-c907-4287-bdf9-33103477fcd0",
   "metadata": {},
   "source": [
    "Notes for PCT:\n",
    "\n",
    "- Think about how to deal with 0 data -> **see \"zero_handling\" option**\n",
    "- Test if normalisation [0-1] for each UCP layer is a good proxy to obtain a proportional increase of the UCP that is wanted to be modified by having a final UCP raster still in the range [0-1]? Maybe not, because this changes the whole range of values in the raster -> **Consider only \"clip\" option for the UCPs**\n",
    "- Check consistency in IMD and BSF -> **Creates a separate functions \"check_imd_bsf_consistency\" for checking**\n",
    "- Think about how to deal with no-data -> **Added additional masking in bot ucp and fractions processing**\n",
    "- Test if a second normalisation [0-1] per pixel fractions array (other than a normalisation on each single raster) on the modified fractions raster is sufficient to preserve proportion by obeying the rules that sum per pixel = 1 and fractions value >=0. Maybe it's better first to normalise per pixel and then apply the second normalisation to each final raster -> **Applied a single normalization within each pixel in the mask as proportional scaling Fx/sum(all_F)**"
   ]
  }
 ],
 "metadata": {
  "kernelspec": {
   "display_name": "geo",
   "language": "python",
   "name": "python3"
  },
  "language_info": {
   "codemirror_mode": {
    "name": "ipython",
    "version": 3
   },
   "file_extension": ".py",
   "mimetype": "text/x-python",
   "name": "python",
   "nbconvert_exporter": "python",
   "pygments_lexer": "ipython3",
   "version": "3.10.13"
  }
 },
 "nbformat": 4,
 "nbformat_minor": 5
}
